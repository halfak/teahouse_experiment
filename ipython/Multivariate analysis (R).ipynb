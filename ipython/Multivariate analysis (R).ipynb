{
 "cells": [
  {
   "cell_type": "code",
   "execution_count": 3,
   "metadata": {
    "collapsed": false
   },
   "outputs": [
    {
     "name": "stderr",
     "output_type": "stream",
     "text": [
      "Installing package into ‘/usr/local/lib/R/site-library’\n",
      "(as ‘lib’ is unspecified)\n",
      "also installing the dependency ‘chron’\n",
      "\n"
     ]
    },
    {
     "name": "stdout",
     "output_type": "stream",
     "text": [
      "\n",
      "The downloaded source packages are in\n",
      "\t‘/tmp/RtmpTBtpTb/downloaded_packages’\n"
     ]
    }
   ],
   "source": [
    "install.packages('data.table', repos=\"http://cran.rstudio.com/\")\n",
    "library(data.table)"
   ]
  },
  {
   "cell_type": "code",
   "execution_count": 4,
   "metadata": {
    "collapsed": false
   },
   "outputs": [
    {
     "data": {
      "text/html": [
       "<table>\n",
       "<thead><tr><th></th><th scope=col>user_id</th><th scope=col>invite_date</th><th scope=col>sample_group</th><th scope=col>revisions_3_to_4_weeks</th><th scope=col>revisions_1_to_2_months</th><th scope=col>revisions_2_to_6_months</th><th scope=col>edits</th><th scope=col>main_edits</th><th scope=col>talk_edits</th><th scope=col>user_edits</th><th scope=col>user_talk_edits</th><th scope=col>wp_edits</th><th scope=col>other_edits</th><th scope=col>experiment</th></tr></thead>\n",
       "<tbody>\n",
       "\t<tr><th scope=row>1</th><td>22890795</td><td>2014-10-20</td><td>control</td><td>0</td><td>0</td><td>0</td><td>4</td><td>0</td><td>0</td><td>4</td><td>0</td><td>0</td><td>0</td><td>th2</td></tr>\n",
       "\t<tr><th scope=row>2</th><td>22891039</td><td>2014-10-20</td><td>control</td><td>0</td><td>0</td><td>0</td><td>3</td><td>3</td><td>0</td><td>0</td><td>0</td><td>0</td><td>0</td><td>th2</td></tr>\n",
       "\t<tr><th scope=row>3</th><td>22891690</td><td>2014-10-20</td><td>control</td><td>0</td><td>0</td><td>0</td><td>2</td><td>1</td><td>1</td><td>0</td><td>0</td><td>0</td><td>0</td><td>th2</td></tr>\n",
       "\t<tr><th scope=row>4</th><td>22892606</td><td>2014-10-20</td><td>control</td><td>0</td><td>0</td><td>0</td><td>4</td><td>0</td><td>0</td><td>4</td><td>0</td><td>0</td><td>0</td><td>th2</td></tr>\n",
       "\t<tr><th scope=row>5</th><td>22892705</td><td>2014-10-20</td><td>invited</td><td>0</td><td>0</td><td>0</td><td>3</td><td>3</td><td>0</td><td>0</td><td>0</td><td>0</td><td>0</td><td>th2</td></tr>\n",
       "\t<tr><th scope=row>6</th><td>22892807</td><td>2014-10-20</td><td>control</td><td>0</td><td>0</td><td>0</td><td>3</td><td>0</td><td>0</td><td>2</td><td>1</td><td>0</td><td>0</td><td>th2</td></tr>\n",
       "</tbody>\n",
       "</table>\n"
      ],
      "text/latex": [
       "\\begin{tabular}{r|llllllllllllll}\n",
       "  & user_id & invite_date & sample_group & revisions_3_to_4_weeks & revisions_1_to_2_months & revisions_2_to_6_months & edits & main_edits & talk_edits & user_edits & user_talk_edits & wp_edits & other_edits & experiment\\\\\n",
       "\\hline\n",
       "\t1 & 22890795 & 2014-10-20 & control & 0 & 0 & 0 & 4 & 0 & 0 & 4 & 0 & 0 & 0 & th2\\\\\n",
       "\t2 & 22891039 & 2014-10-20 & control & 0 & 0 & 0 & 3 & 3 & 0 & 0 & 0 & 0 & 0 & th2\\\\\n",
       "\t3 & 22891690 & 2014-10-20 & control & 0 & 0 & 0 & 2 & 1 & 1 & 0 & 0 & 0 & 0 & th2\\\\\n",
       "\t4 & 22892606 & 2014-10-20 & control & 0 & 0 & 0 & 4 & 0 & 0 & 4 & 0 & 0 & 0 & th2\\\\\n",
       "\t5 & 22892705 & 2014-10-20 & invited & 0 & 0 & 0 & 3 & 3 & 0 & 0 & 0 & 0 & 0 & th2\\\\\n",
       "\t6 & 22892807 & 2014-10-20 & control & 0 & 0 & 0 & 3 & 0 & 0 & 2 & 1 & 0 & 0 & th2\\\\\n",
       "\\end{tabular}\n"
      ],
      "text/plain": [
       "    user_id invite_date sample_group revisions_3_to_4_weeks\n",
       "1: 22890795  2014-10-20      control                      0\n",
       "2: 22891039  2014-10-20      control                      0\n",
       "3: 22891690  2014-10-20      control                      0\n",
       "4: 22892606  2014-10-20      control                      0\n",
       "5: 22892705  2014-10-20      invited                      0\n",
       "6: 22892807  2014-10-20      control                      0\n",
       "   revisions_1_to_2_months revisions_2_to_6_months edits main_edits talk_edits\n",
       "1:                       0                       0     4          0          0\n",
       "2:                       0                       0     3          3          0\n",
       "3:                       0                       0     2          1          1\n",
       "4:                       0                       0     4          0          0\n",
       "5:                       0                       0     3          3          0\n",
       "6:                       0                       0     3          0          0\n",
       "   user_edits user_talk_edits wp_edits other_edits experiment\n",
       "1:          4               0        0           0        th2\n",
       "2:          0               0        0           0        th2\n",
       "3:          0               0        0           0        th2\n",
       "4:          4               0        0           0        th2\n",
       "5:          0               0        0           0        th2\n",
       "6:          2               1        0           0        th2"
      ]
     },
     "execution_count": 4,
     "metadata": {},
     "output_type": "execute_result"
    },
    {
     "data": {
      "text/plain": [
       "    user_id             invite_date     sample_group   revisions_3_to_4_weeks\n",
       " Min.   :22890795   2014-11-17:  260   control: 6531   Min.   :  0.0         \n",
       " 1st Qu.:23206724   2014-12-04:  260   invited:14993   1st Qu.:  0.0         \n",
       " Median :23532054   2014-10-30:  259                   Median :  0.0         \n",
       " Mean   :24433684   2014-12-05:  258                   Mean   :  1.5         \n",
       " 3rd Qu.:26744881   2015-01-10:  257                   3rd Qu.:  0.0         \n",
       " Max.   :27058409   2014-11-08:  256                   Max.   :847.0         \n",
       "                    (Other)   :19974                                         \n",
       " revisions_1_to_2_months revisions_2_to_6_months     edits       \n",
       " Min.   :   0.000        Min.   :    0.00        Min.   :  0.00  \n",
       " 1st Qu.:   0.000        1st Qu.:    0.00        1st Qu.:  5.00  \n",
       " Median :   0.000        Median :    0.00        Median :  7.00  \n",
       " Mean   :   4.602        Mean   :    9.84        Mean   : 10.15  \n",
       " 3rd Qu.:   0.000        3rd Qu.:    0.00        3rd Qu.: 11.00  \n",
       " Max.   :3835.000        Max.   :22907.00        Max.   :326.00  \n",
       "                                                                 \n",
       "   main_edits        talk_edits        user_edits      user_talk_edits   \n",
       " Min.   :  0.000   Min.   :  0.000   Min.   :  0.000   Min.   :  0.0000  \n",
       " 1st Qu.:  3.000   1st Qu.:  0.000   1st Qu.:  0.000   1st Qu.:  0.0000  \n",
       " Median :  6.000   Median :  0.000   Median :  0.000   Median :  0.0000  \n",
       " Mean   :  7.457   Mean   :  0.227   Mean   :  1.515   Mean   :  0.3319  \n",
       " 3rd Qu.:  9.000   3rd Qu.:  0.000   3rd Qu.:  1.000   3rd Qu.:  0.0000  \n",
       " Max.   :265.000   Max.   :154.000   Max.   :232.000   Max.   :103.0000  \n",
       "                                                                         \n",
       "    wp_edits        other_edits       experiment \n",
       " Min.   : 0.0000   Min.   :  0.0000   th2:14766  \n",
       " 1st Qu.: 0.0000   1st Qu.:  0.0000   th3: 6758  \n",
       " Median : 0.0000   Median :  0.0000              \n",
       " Mean   : 0.1498   Mean   :  0.4705              \n",
       " 3rd Qu.: 0.0000   3rd Qu.:  0.0000              \n",
       " Max.   :79.0000   Max.   :119.0000              \n",
       "                                                 "
      ]
     },
     "execution_count": 4,
     "metadata": {},
     "output_type": "execute_result"
    },
    {
     "data": {
      "text/html": [
       "<table>\n",
       "<thead><tr><th></th><th scope=col>user_id</th><th scope=col>invite_date</th><th scope=col>sample_group</th><th scope=col>revisions_3_to_4_weeks</th><th scope=col>revisions_1_to_2_months</th><th scope=col>revisions_2_to_6_months</th><th scope=col>edits</th><th scope=col>main_edits</th><th scope=col>talk_edits</th><th scope=col>user_edits</th><th scope=col>user_talk_edits</th><th scope=col>wp_edits</th><th scope=col>other_edits</th><th scope=col>experiment</th><th scope=col>invited</th><th scope=col>surviving_3_to_4_weeks</th><th scope=col>surviving_1_to_2_months</th><th scope=col>surviving_2_to_6_months</th></tr></thead>\n",
       "<tbody>\n",
       "\t<tr><th scope=row>1</th><td>22890795</td><td>2014-10-20</td><td>control</td><td>0</td><td>0</td><td>0</td><td>4</td><td>0</td><td>0</td><td>4</td><td>0</td><td>0</td><td>0</td><td>th2</td><td>FALSE</td><td>FALSE</td><td>FALSE</td><td>FALSE</td></tr>\n",
       "\t<tr><th scope=row>2</th><td>22891039</td><td>2014-10-20</td><td>control</td><td>0</td><td>0</td><td>0</td><td>3</td><td>3</td><td>0</td><td>0</td><td>0</td><td>0</td><td>0</td><td>th2</td><td>FALSE</td><td>FALSE</td><td>FALSE</td><td>FALSE</td></tr>\n",
       "\t<tr><th scope=row>3</th><td>22891690</td><td>2014-10-20</td><td>control</td><td>0</td><td>0</td><td>0</td><td>2</td><td>1</td><td>1</td><td>0</td><td>0</td><td>0</td><td>0</td><td>th2</td><td>FALSE</td><td>FALSE</td><td>FALSE</td><td>FALSE</td></tr>\n",
       "\t<tr><th scope=row>4</th><td>22892606</td><td>2014-10-20</td><td>control</td><td>0</td><td>0</td><td>0</td><td>4</td><td>0</td><td>0</td><td>4</td><td>0</td><td>0</td><td>0</td><td>th2</td><td>FALSE</td><td>FALSE</td><td>FALSE</td><td>FALSE</td></tr>\n",
       "\t<tr><th scope=row>5</th><td>22892705</td><td>2014-10-20</td><td>invited</td><td>0</td><td>0</td><td>0</td><td>3</td><td>3</td><td>0</td><td>0</td><td>0</td><td>0</td><td>0</td><td>th2</td><td>TRUE</td><td>FALSE</td><td>FALSE</td><td>FALSE</td></tr>\n",
       "\t<tr><th scope=row>6</th><td>22892807</td><td>2014-10-20</td><td>control</td><td>0</td><td>0</td><td>0</td><td>3</td><td>0</td><td>0</td><td>2</td><td>1</td><td>0</td><td>0</td><td>th2</td><td>FALSE</td><td>FALSE</td><td>FALSE</td><td>FALSE</td></tr>\n",
       "</tbody>\n",
       "</table>\n"
      ],
      "text/latex": [
       "\\begin{tabular}{r|llllllllllllllllll}\n",
       "  & user_id & invite_date & sample_group & revisions_3_to_4_weeks & revisions_1_to_2_months & revisions_2_to_6_months & edits & main_edits & talk_edits & user_edits & user_talk_edits & wp_edits & other_edits & experiment & invited & surviving_3_to_4_weeks & surviving_1_to_2_months & surviving_2_to_6_months\\\\\n",
       "\\hline\n",
       "\t1 & 22890795 & 2014-10-20 & control & 0 & 0 & 0 & 4 & 0 & 0 & 4 & 0 & 0 & 0 & th2 & FALSE & FALSE & FALSE & FALSE\\\\\n",
       "\t2 & 22891039 & 2014-10-20 & control & 0 & 0 & 0 & 3 & 3 & 0 & 0 & 0 & 0 & 0 & th2 & FALSE & FALSE & FALSE & FALSE\\\\\n",
       "\t3 & 22891690 & 2014-10-20 & control & 0 & 0 & 0 & 2 & 1 & 1 & 0 & 0 & 0 & 0 & th2 & FALSE & FALSE & FALSE & FALSE\\\\\n",
       "\t4 & 22892606 & 2014-10-20 & control & 0 & 0 & 0 & 4 & 0 & 0 & 4 & 0 & 0 & 0 & th2 & FALSE & FALSE & FALSE & FALSE\\\\\n",
       "\t5 & 22892705 & 2014-10-20 & invited & 0 & 0 & 0 & 3 & 3 & 0 & 0 & 0 & 0 & 0 & th2 & TRUE & FALSE & FALSE & FALSE\\\\\n",
       "\t6 & 22892807 & 2014-10-20 & control & 0 & 0 & 0 & 3 & 0 & 0 & 2 & 1 & 0 & 0 & th2 & FALSE & FALSE & FALSE & FALSE\\\\\n",
       "\\end{tabular}\n"
      ],
      "text/plain": [
       "    user_id invite_date sample_group revisions_3_to_4_weeks\n",
       "1: 22890795  2014-10-20      control                      0\n",
       "2: 22891039  2014-10-20      control                      0\n",
       "3: 22891690  2014-10-20      control                      0\n",
       "4: 22892606  2014-10-20      control                      0\n",
       "5: 22892705  2014-10-20      invited                      0\n",
       "6: 22892807  2014-10-20      control                      0\n",
       "   revisions_1_to_2_months revisions_2_to_6_months edits main_edits talk_edits\n",
       "1:                       0                       0     4          0          0\n",
       "2:                       0                       0     3          3          0\n",
       "3:                       0                       0     2          1          1\n",
       "4:                       0                       0     4          0          0\n",
       "5:                       0                       0     3          3          0\n",
       "6:                       0                       0     3          0          0\n",
       "   user_edits user_talk_edits wp_edits other_edits experiment invited\n",
       "1:          4               0        0           0        th2   FALSE\n",
       "2:          0               0        0           0        th2   FALSE\n",
       "3:          0               0        0           0        th2   FALSE\n",
       "4:          4               0        0           0        th2   FALSE\n",
       "5:          0               0        0           0        th2    TRUE\n",
       "6:          2               1        0           0        th2   FALSE\n",
       "   surviving_3_to_4_weeks surviving_1_to_2_months surviving_2_to_6_months\n",
       "1:                  FALSE                   FALSE                   FALSE\n",
       "2:                  FALSE                   FALSE                   FALSE\n",
       "3:                  FALSE                   FALSE                   FALSE\n",
       "4:                  FALSE                   FALSE                   FALSE\n",
       "5:                  FALSE                   FALSE                   FALSE\n",
       "6:                  FALSE                   FALSE                   FALSE"
      ]
     },
     "execution_count": 4,
     "metadata": {},
     "output_type": "execute_result"
    }
   ],
   "source": [
    "th3_users = data.table(read.table(\"../datasets/th3_experimental_user.tsv\", sep=\"\\t\", header=T))\n",
    "th3_survival = data.table(read.table(\"../datasets/th3_experimental_user_survival.tsv\", sep=\"\\t\", header=T))\n",
    "th3_edits = data.table(read.table(\"../datasets/th3_preinvite_edits.tsv\", sep=\"\\t\", header=T))\n",
    "th3_user_survival = merge(th3_users, th3_survival, by=\"user_id\")\n",
    "th3_user_survival_edits = merge(th3_user_survival, th3_edits, by=\"user_id\")\n",
    "th3_user_survival_edits$experiment = factor(\"th3\", level=c(\"th2\", \"th3\"))\n",
    "\n",
    "th2_users = data.table(read.table(\"../datasets/th2_experimental_user.tsv\", sep=\"\\t\", header=T))\n",
    "th2_survival = data.table(read.table(\"../datasets/th2_experimental_user_survival.tsv\", sep=\"\\t\", header=T))\n",
    "th2_edits = data.table(read.table(\"../datasets/th2_preinvite_edits.tsv\", sep=\"\\t\", header=T))\n",
    "th2_user_survival = merge(th2_users, th2_survival, by=\"user_id\")\n",
    "th2_user_survival_edits = merge(th2_user_survival, th2_edits, by=\"user_id\")\n",
    "th2_user_survival_edits$experiment = factor(\"th2\", level=c(\"th2\", \"th3\"))\n",
    " \n",
    "user_survival_edits = rbind(th2_user_survival_edits, th3_user_survival_edits)\n",
    "user_survival_edits$main_edits = sapply(user_survival_edits$main_edits, function(edits){if(is.na(edits)){0}else{edits}})\n",
    "user_survival_edits$talk_edits = sapply(user_survival_edits$talk_edits, function(edits){if(is.na(edits)){0}else{edits}})\n",
    "user_survival_edits$user_edits = sapply(user_survival_edits$user_edits, function(edits){if(is.na(edits)){0}else{edits}})\n",
    "user_survival_edits$user_talk_edits = sapply(user_survival_edits$user_talk_edits, function(edits){if(is.na(edits)){0}else{edits}})\n",
    "user_survival_edits$wp_edits = sapply(user_survival_edits$wp_edits, function(edits){if(is.na(edits)){0}else{edits}})\n",
    "user_survival_edits$other_edits = sapply(user_survival_edits$other_edits, function(edits){if(is.na(edits)){0}else{edits}})\n",
    "head(user_survival_edits)\n",
    "summary(user_survival_edits)\n",
    "\n",
    "user_survival_edits$invited = user_survival_edits$sample_group == \"invited\"\n",
    "user_survival_edits$surviving_3_to_4_weeks = user_survival_edits$revisions_3_to_4_weeks >= 1\n",
    "user_survival_edits$surviving_1_to_2_months = user_survival_edits$revisions_1_to_2_months >= 1\n",
    "user_survival_edits$surviving_2_to_6_months = user_survival_edits$revisions_2_to_6_months >= 1\n",
    "head(user_survival_edits)"
   ]
  },
  {
   "cell_type": "code",
   "execution_count": 5,
   "metadata": {
    "collapsed": false
   },
   "outputs": [
    {
     "data": {
      "text/plain": [
       "\n",
       "Call:\n",
       "glm(formula = surviving_3_to_4_weeks ~ invited + experiment + \n",
       "    edits + main_edits + talk_edits + user_talk_edits + wp_edits + \n",
       "    other_edits, family = \"binomial\", data = user_survival_edits)\n",
       "\n",
       "Deviance Residuals: \n",
       "    Min       1Q   Median       3Q      Max  \n",
       "-2.7642  -0.4317  -0.4176  -0.3995   2.3289  \n",
       "\n",
       "Coefficients:\n",
       "                 Estimate Std. Error z value Pr(>|z|)    \n",
       "(Intercept)     -2.660055   0.057548 -46.223  < 2e-16 ***\n",
       "invitedTRUE      0.140931   0.056074   2.513    0.012 *  \n",
       "experimentth3    0.048768   0.054317   0.898    0.369    \n",
       "edits            0.016955   0.003820   4.438 9.07e-06 ***\n",
       "main_edits       0.003611   0.004092   0.882    0.378    \n",
       "talk_edits      -0.005648   0.013394  -0.422    0.673    \n",
       "user_talk_edits  0.003183   0.010277   0.310    0.757    \n",
       "wp_edits         0.007639   0.015429   0.495    0.621    \n",
       "other_edits      0.003759   0.007183   0.523    0.601    \n",
       "---\n",
       "Signif. codes:  0 ‘***’ 0.001 ‘**’ 0.01 ‘*’ 0.05 ‘.’ 0.1 ‘ ’ 1\n",
       "\n",
       "(Dispersion parameter for binomial family taken to be 1)\n",
       "\n",
       "    Null deviance: 12944  on 21523  degrees of freedom\n",
       "Residual deviance: 12801  on 21515  degrees of freedom\n",
       "AIC: 12819\n",
       "\n",
       "Number of Fisher Scoring iterations: 5\n"
      ]
     },
     "execution_count": 5,
     "metadata": {},
     "output_type": "execute_result"
    }
   ],
   "source": [
    "model = glm(\n",
    "    surviving_3_to_4_weeks ~ invited + experiment + edits + main_edits + talk_edits + user_talk_edits + wp_edits + other_edits, \n",
    "    data = user_survival_edits, family = \"binomial\"\n",
    ")\n",
    "summary(model)"
   ]
  },
  {
   "cell_type": "code",
   "execution_count": 6,
   "metadata": {
    "collapsed": false
   },
   "outputs": [
    {
     "data": {
      "text/plain": [
       "\n",
       "Call:\n",
       "glm(formula = surviving_1_to_2_months ~ invited + experiment + \n",
       "    edits + main_edits + talk_edits + user_talk_edits + wp_edits + \n",
       "    other_edits, family = \"binomial\", data = user_survival_edits)\n",
       "\n",
       "Deviance Residuals: \n",
       "    Min       1Q   Median       3Q      Max  \n",
       "-3.1154  -0.5144  -0.4974  -0.4785   2.1660  \n",
       "\n",
       "Coefficients:\n",
       "                 Estimate Std. Error z value Pr(>|z|)    \n",
       "(Intercept)     -2.245073   0.049458 -45.393  < 2e-16 ***\n",
       "invitedTRUE      0.104519   0.047944   2.180   0.0293 *  \n",
       "experimentth3    0.007343   0.046924   0.156   0.8756    \n",
       "edits            0.015781   0.003515   4.489 7.16e-06 ***\n",
       "main_edits       0.006794   0.003752   1.811   0.0702 .  \n",
       "talk_edits       0.012066   0.015401   0.783   0.4334    \n",
       "user_talk_edits -0.007575   0.009937  -0.762   0.4459    \n",
       "wp_edits        -0.008969   0.016434  -0.546   0.5852    \n",
       "other_edits      0.006972   0.006617   1.054   0.2921    \n",
       "---\n",
       "Signif. codes:  0 ‘***’ 0.001 ‘**’ 0.01 ‘*’ 0.05 ‘.’ 0.1 ‘ ’ 1\n",
       "\n",
       "(Dispersion parameter for binomial family taken to be 1)\n",
       "\n",
       "    Null deviance: 16287  on 21523  degrees of freedom\n",
       "Residual deviance: 16106  on 21515  degrees of freedom\n",
       "AIC: 16124\n",
       "\n",
       "Number of Fisher Scoring iterations: 4\n"
      ]
     },
     "execution_count": 6,
     "metadata": {},
     "output_type": "execute_result"
    }
   ],
   "source": [
    "model = glm(\n",
    "    surviving_1_to_2_months ~ invited + experiment + edits + main_edits + talk_edits + user_talk_edits + wp_edits + other_edits, \n",
    "    data = user_survival_edits, family = \"binomial\"\n",
    ")\n",
    "summary(model)"
   ]
  },
  {
   "cell_type": "code",
   "execution_count": 8,
   "metadata": {
    "collapsed": false
   },
   "outputs": [
    {
     "data": {
      "text/plain": [
       "\n",
       "Call:\n",
       "glm(formula = surviving_2_to_6_months ~ invited + experiment + \n",
       "    edits + main_edits + talk_edits + user_talk_edits + wp_edits + \n",
       "    other_edits, family = \"binomial\", data = user_survival_edits)\n",
       "\n",
       "Deviance Residuals: \n",
       "    Min       1Q   Median       3Q      Max  \n",
       "-3.2190  -0.5387  -0.5144  -0.4766   2.1924  \n",
       "\n",
       "Coefficients:\n",
       "                 Estimate Std. Error z value Pr(>|z|)    \n",
       "(Intercept)     -2.162291   0.048746 -44.359  < 2e-16 ***\n",
       "invitedTRUE      0.138527   0.047496   2.917  0.00354 ** \n",
       "experimentth3   -0.146346   0.047037  -3.111  0.00186 ** \n",
       "edits            0.007818   0.003631   2.153  0.03132 *  \n",
       "main_edits       0.016016   0.003857   4.152 3.29e-05 ***\n",
       "talk_edits       0.031168   0.015625   1.995  0.04606 *  \n",
       "user_talk_edits -0.007596   0.010267  -0.740  0.45940    \n",
       "wp_edits         0.001962   0.016004   0.123  0.90241    \n",
       "other_edits      0.007342   0.006766   1.085  0.27786    \n",
       "---\n",
       "Signif. codes:  0 ‘***’ 0.001 ‘**’ 0.01 ‘*’ 0.05 ‘.’ 0.1 ‘ ’ 1\n",
       "\n",
       "(Dispersion parameter for binomial family taken to be 1)\n",
       "\n",
       "    Null deviance: 16799  on 21523  degrees of freedom\n",
       "Residual deviance: 16589  on 21515  degrees of freedom\n",
       "AIC: 16607\n",
       "\n",
       "Number of Fisher Scoring iterations: 4\n"
      ]
     },
     "execution_count": 8,
     "metadata": {},
     "output_type": "execute_result"
    }
   ],
   "source": [
    "model = glm(\n",
    "    surviving_2_to_6_months ~ invited + experiment + edits + main_edits + talk_edits + user_talk_edits + wp_edits + other_edits, \n",
    "    data = user_survival_edits, family = \"binomial\"\n",
    ")\n",
    "summary(model)"
   ]
  },
  {
   "cell_type": "code",
   "execution_count": 40,
   "metadata": {
    "collapsed": false
   },
   "outputs": [
    {
     "data": {
      "text/plain": [
       "\n",
       "Call:\n",
       "glm(formula = surviving_3_to_4_weeks ~ invited + experiment + \n",
       "    (edits:invited) + (main_edits:invited) + (talk_edits:invited) + \n",
       "    (user_talk_edits:invited) + (wp_edits:invited) + (other_edits:invited), \n",
       "    family = \"binomial\", data = user_survival_edits)\n",
       "\n",
       "Deviance Residuals: \n",
       "    Min       1Q   Median       3Q      Max  \n",
       "-1.9207  -0.4294  -0.4142  -0.4044   2.2966  \n",
       "\n",
       "Coefficients:\n",
       "                               Estimate Std. Error z value Pr(>|z|)    \n",
       "(Intercept)                  -2.5690638  0.0632336 -40.628  < 2e-16 ***\n",
       "invitedTRUE                   0.0061933  0.0695743   0.089   0.9291    \n",
       "experimentth3                 0.0531358  0.0543417   0.978   0.3282    \n",
       "invitedFALSE:edits            0.0140570  0.0080617   1.744   0.0812 .  \n",
       "invitedTRUE:edits             0.0182556  0.0043574   4.190 2.79e-05 ***\n",
       "invitedFALSE:main_edits      -0.0042237  0.0086772  -0.487   0.6264    \n",
       "invitedTRUE:main_edits        0.0067950  0.0046815   1.451   0.1467    \n",
       "invitedFALSE:talk_edits      -0.0050298  0.0354824  -0.142   0.8873    \n",
       "invitedTRUE:talk_edits       -0.0042672  0.0151875  -0.281   0.7787    \n",
       "invitedFALSE:user_talk_edits  0.0077191  0.0182482   0.423   0.6723    \n",
       "invitedTRUE:user_talk_edits  -0.0002405  0.0126731  -0.019   0.9849    \n",
       "invitedFALSE:wp_edits         0.0125007  0.0293284   0.426   0.6699    \n",
       "invitedTRUE:wp_edits          0.0054144  0.0182721   0.296   0.7670    \n",
       "invitedFALSE:other_edits      0.0073528  0.0130025   0.565   0.5717    \n",
       "invitedTRUE:other_edits       0.0032136  0.0086877   0.370   0.7115    \n",
       "---\n",
       "Signif. codes:  0 ‘***’ 0.001 ‘**’ 0.01 ‘*’ 0.05 ‘.’ 0.1 ‘ ’ 1\n",
       "\n",
       "(Dispersion parameter for binomial family taken to be 1)\n",
       "\n",
       "    Null deviance: 12944  on 21523  degrees of freedom\n",
       "Residual deviance: 12789  on 21509  degrees of freedom\n",
       "AIC: 12819\n",
       "\n",
       "Number of Fisher Scoring iterations: 5\n"
      ]
     },
     "execution_count": 40,
     "metadata": {},
     "output_type": "execute_result"
    }
   ],
   "source": [
    "model = glm(\n",
    "    surviving_3_to_4_weeks ~ \n",
    "        invited + \n",
    "        experiment + \n",
    "        (edits:invited) + \n",
    "        (main_edits:invited) + \n",
    "        (talk_edits:invited) + \n",
    "        (user_talk_edits:invited) + \n",
    "        (wp_edits:invited) + \n",
    "        (other_edits:invited), \n",
    "    data = user_survival_edits, family = \"binomial\"\n",
    ")\n",
    "summary(model)"
   ]
  },
  {
   "cell_type": "code",
   "execution_count": 9,
   "metadata": {
    "collapsed": false
   },
   "outputs": [
    {
     "data": {
      "text/plain": [
       "\n",
       "Call:\n",
       "glm(formula = surviving_1_to_2_months ~ invited + experiment + \n",
       "    (edits:invited) + (main_edits:invited) + (talk_edits:invited) + \n",
       "    (user_talk_edits:invited) + (wp_edits:invited) + (other_edits:invited), \n",
       "    family = \"binomial\", data = user_survival_edits)\n",
       "\n",
       "Deviance Residuals: \n",
       "    Min       1Q   Median       3Q      Max  \n",
       "-2.1285  -0.5113  -0.4945  -0.4841   2.2020  \n",
       "\n",
       "Coefficients:\n",
       "                              Estimate Std. Error z value Pr(>|z|)    \n",
       "(Intercept)                  -2.162025   0.055169 -39.189  < 2e-16 ***\n",
       "invitedTRUE                  -0.020688   0.061248  -0.338 0.735528    \n",
       "experimentth3                 0.009927   0.046949   0.211 0.832548    \n",
       "invitedFALSE:edits            0.019310   0.006827   2.829 0.004675 ** \n",
       "invitedTRUE:edits             0.014911   0.004040   3.691 0.000223 ***\n",
       "invitedFALSE:main_edits      -0.005843   0.007276  -0.803 0.421917    \n",
       "invitedTRUE:main_edits        0.011776   0.004337   2.715 0.006620 ** \n",
       "invitedFALSE:talk_edits      -0.047606   0.035733  -1.332 0.182777    \n",
       "invitedTRUE:talk_edits        0.034001   0.019288   1.763 0.077937 .  \n",
       "invitedFALSE:user_talk_edits -0.004235   0.017449  -0.243 0.808250    \n",
       "invitedTRUE:user_talk_edits  -0.011689   0.011743  -0.995 0.319548    \n",
       "invitedFALSE:wp_edits        -0.006011   0.029537  -0.204 0.838738    \n",
       "invitedTRUE:wp_edits         -0.009870   0.019936  -0.495 0.620528    \n",
       "invitedFALSE:other_edits     -0.008560   0.012304  -0.696 0.486623    \n",
       "invitedTRUE:other_edits       0.014277   0.007802   1.830 0.067254 .  \n",
       "---\n",
       "Signif. codes:  0 ‘***’ 0.001 ‘**’ 0.01 ‘*’ 0.05 ‘.’ 0.1 ‘ ’ 1\n",
       "\n",
       "(Dispersion parameter for binomial family taken to be 1)\n",
       "\n",
       "    Null deviance: 16287  on 21523  degrees of freedom\n",
       "Residual deviance: 16087  on 21509  degrees of freedom\n",
       "AIC: 16117\n",
       "\n",
       "Number of Fisher Scoring iterations: 4\n"
      ]
     },
     "execution_count": 9,
     "metadata": {},
     "output_type": "execute_result"
    }
   ],
   "source": [
    "model = glm(\n",
    "    surviving_1_to_2_months ~ \n",
    "        invited + \n",
    "        experiment + \n",
    "        (edits:invited) + \n",
    "        (main_edits:invited) + \n",
    "        (talk_edits:invited) + \n",
    "        (user_talk_edits:invited) + \n",
    "        (wp_edits:invited) + \n",
    "        (other_edits:invited), \n",
    "    data = user_survival_edits, family = \"binomial\"\n",
    ")\n",
    "summary(model)"
   ]
  },
  {
   "cell_type": "code",
   "execution_count": 11,
   "metadata": {
    "collapsed": false
   },
   "outputs": [
    {
     "data": {
      "text/plain": [
       "\n",
       "Call:\n",
       "glm(formula = surviving_2_to_6_months ~ invited + experiment + \n",
       "    (edits:invited) + (main_edits:invited) + (talk_edits:invited) + \n",
       "    (user_talk_edits:invited) + (wp_edits:invited) + (other_edits:invited), \n",
       "    family = \"binomial\", data = user_survival_edits)\n",
       "\n",
       "Deviance Residuals: \n",
       "    Min       1Q   Median       3Q      Max  \n",
       "-2.3891  -0.5358  -0.5106  -0.4772   2.2131  \n",
       "\n",
       "Coefficients:\n",
       "                              Estimate Std. Error z value Pr(>|z|)    \n",
       "(Intercept)                  -2.095082   0.055829 -37.527  < 2e-16 ***\n",
       "invitedTRUE                   0.041401   0.061811   0.670  0.50299    \n",
       "experimentth3                -0.144242   0.047042  -3.066  0.00217 ** \n",
       "invitedFALSE:edits            0.005403   0.008003   0.675  0.49960    \n",
       "invitedTRUE:edits             0.008672   0.004058   2.137  0.03257 *  \n",
       "invitedFALSE:main_edits       0.012264   0.008380   1.463  0.14334    \n",
       "invitedTRUE:main_edits        0.017761   0.004350   4.083 4.44e-05 ***\n",
       "invitedFALSE:talk_edits      -0.006018   0.033680  -0.179  0.85819    \n",
       "invitedTRUE:talk_edits        0.046564   0.018815   2.475  0.01333 *  \n",
       "invitedFALSE:user_talk_edits  0.007037   0.018976   0.371  0.71078    \n",
       "invitedTRUE:user_talk_edits  -0.014102   0.011588  -1.217  0.22364    \n",
       "invitedFALSE:wp_edits        -0.021381   0.040481  -0.528  0.59738    \n",
       "invitedTRUE:wp_edits          0.008346   0.017432   0.479  0.63208    \n",
       "invitedFALSE:other_edits      0.002784   0.013286   0.210  0.83402    \n",
       "invitedTRUE:other_edits       0.010292   0.007932   1.298  0.19445    \n",
       "---\n",
       "Signif. codes:  0 ‘***’ 0.001 ‘**’ 0.01 ‘*’ 0.05 ‘.’ 0.1 ‘ ’ 1\n",
       "\n",
       "(Dispersion parameter for binomial family taken to be 1)\n",
       "\n",
       "    Null deviance: 16799  on 21523  degrees of freedom\n",
       "Residual deviance: 16580  on 21509  degrees of freedom\n",
       "AIC: 16610\n",
       "\n",
       "Number of Fisher Scoring iterations: 4\n"
      ]
     },
     "execution_count": 11,
     "metadata": {},
     "output_type": "execute_result"
    }
   ],
   "source": [
    "model = glm(\n",
    "    surviving_2_to_6_months ~ \n",
    "        invited + \n",
    "        experiment + \n",
    "        (edits:invited) + \n",
    "        (main_edits:invited) + \n",
    "        (talk_edits:invited) + \n",
    "        (user_talk_edits:invited) + \n",
    "        (wp_edits:invited) + \n",
    "        (other_edits:invited), \n",
    "    data = user_survival_edits, family = \"binomial\"\n",
    ")\n",
    "summary(model)"
   ]
  },
  {
   "cell_type": "code",
   "execution_count": 13,
   "metadata": {
    "collapsed": false
   },
   "outputs": [
    {
     "ename": "ERROR",
     "evalue": "Error in eval(expr, envir, enclos): object 'FAIL' not found\n",
     "output_type": "error",
     "traceback": [
      "Error in eval(expr, envir, enclos): object 'FAIL' not found\n"
     ]
    }
   ],
   "source": [
    "FAIL"
   ]
  },
  {
   "cell_type": "code",
   "execution_count": 17,
   "metadata": {
    "collapsed": false,
    "scrolled": true
   },
   "outputs": [
    {
     "ename": "ERROR",
     "evalue": "Error in rbindlist(l, use.names, fill, idcol): Item 2 of list input is not a data.frame, data.table or list\n",
     "output_type": "error",
     "traceback": [
      "Error in rbindlist(l, use.names, fill, idcol): Item 2 of list input is not a data.frame, data.table or list\n"
     ]
    },
    {
     "data": {
      "text/plain": [
       "       user_id invite_date sample_group revisions_3_to_4_weeks\n",
       "   1: 22897904  2014-10-20      control                      0\n",
       "   2: 22900228  2014-10-20      invited                     19\n",
       "   3: 22900379  2014-10-20      invited                      0\n",
       "   4: 22900506  2014-10-20      invited                      0\n",
       "   5: 22900648  2014-10-20      invited                      0\n",
       "  ---                                                         \n",
       "1141: 27052437  2015-12-14      control                      0\n",
       "1142: 27053068  2015-12-14      control                      0\n",
       "1143: 27053949  2015-12-14      invited                      0\n",
       "1144: 27054635  2015-12-14      invited                      0\n",
       "1145: 27055543  2015-12-14      invited                      0\n",
       "      revisions_1_to_2_months revisions_2_to_6_months edits main_edits\n",
       "   1:                       0                       0    11          2\n",
       "   2:                       0                       0     6          5\n",
       "   3:                       0                       0     9          3\n",
       "   4:                       0                       0     8          4\n",
       "   5:                       0                       0     5          1\n",
       "  ---                                                                 \n",
       "1141:                       1                       2     5          3\n",
       "1142:                       0                       0     6          3\n",
       "1143:                       0                       0    15         13\n",
       "1144:                       0                       0     5          3\n",
       "1145:                       0                       0     5          0\n",
       "      talk_edits user_edits user_talk_edits wp_edits other_edits experiment\n",
       "   1:          0          0               0        9           0        th2\n",
       "   2:          0          0               0        1           0        th2\n",
       "   3:          0          0               0        6           0        th2\n",
       "   4:          2          0               1        1           0        th2\n",
       "   5:          0          0               1        3           0        th2\n",
       "  ---                                                                      \n",
       "1141:          0          1               0        1           0        th3\n",
       "1142:          0          2               0        1           0        th3\n",
       "1143:          0          0               0        2           0        th3\n",
       "1144:          0          0               0        2           0        th3\n",
       "1145:          0          2               0        3           0        th3\n",
       "      invited surviving_3_to_4_weeks surviving_1_to_2_months\n",
       "   1:   FALSE                  FALSE                   FALSE\n",
       "   2:    TRUE                   TRUE                   FALSE\n",
       "   3:    TRUE                  FALSE                   FALSE\n",
       "   4:    TRUE                  FALSE                   FALSE\n",
       "   5:    TRUE                  FALSE                   FALSE\n",
       "  ---                                                       \n",
       "1141:   FALSE                  FALSE                    TRUE\n",
       "1142:   FALSE                  FALSE                   FALSE\n",
       "1143:    TRUE                  FALSE                   FALSE\n",
       "1144:    TRUE                  FALSE                   FALSE\n",
       "1145:    TRUE                  FALSE                   FALSE\n",
       "      surviving_2_to_6_months\n",
       "   1:                   FALSE\n",
       "   2:                   FALSE\n",
       "   3:                   FALSE\n",
       "   4:                   FALSE\n",
       "   5:                   FALSE\n",
       "  ---                        \n",
       "1141:                    TRUE\n",
       "1142:                   FALSE\n",
       "1143:                   FALSE\n",
       "1144:                   FALSE\n",
       "1145:                   FALSE"
      ]
     },
     "execution_count": 17,
     "metadata": {},
     "output_type": "execute_result"
    }
   ],
   "source": [
    "user_survival_edits[wp_edits > 0,]"
   ]
  },
  {
   "cell_type": "code",
   "execution_count": null,
   "metadata": {
    "collapsed": true
   },
   "outputs": [],
   "source": []
  }
 ],
 "metadata": {
  "kernelspec": {
   "display_name": "R",
   "language": "R",
   "name": "ir"
  },
  "language_info": {
   "codemirror_mode": "r",
   "file_extension": ".r",
   "mimetype": "text/x-r-source",
   "name": "R",
   "pygments_lexer": "r",
   "version": "3.1.1"
  }
 },
 "nbformat": 4,
 "nbformat_minor": 0
}
