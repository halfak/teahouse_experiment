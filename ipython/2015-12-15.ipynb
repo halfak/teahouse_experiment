{
 "cells": [
  {
   "cell_type": "markdown",
   "metadata": {},
   "source": [
    "# Tuesday, Dec. 15th\n",
    "\n",
    "Today, I'm going to review the new experiment data.  The experiment ended on Dec. 7th, so we should be able to look at a full week of survival metrics for the users who were bucketed.  I'd like to merge the two experimental groups and include a label for which experiment they were part of so that we can do analyses together and see if either experiment had a substantially different effect. \n",
    "\n",
    "OK.  So first things first, I've got to figure out where J-Mo put the dataz.   ...  Looks like he described it here: https://meta.wikimedia.org/wiki/Research_talk:Teahouse_long_term_new_editor_retention/Work_log/2015-12-15\n",
    "\n",
    "So I'll need to go gather the data from the DB and pull it here in order to work with it.   Before I extract it, I need to look the old file format.  Regretfully, Ipython notebook won't let me work on SQL scripts, so I can't link to it, but it looks like this:\n",
    "```sql\n",
    "CREATE TABLE th_experimental_user (user_id INT, invite_date DATE, bucket VARCHAR(255));\n",
    "```\n"
   ]
  },
  {
   "cell_type": "code",
   "execution_count": null,
   "metadata": {
    "collapsed": true
   },
   "outputs": [],
   "source": []
  }
 ],
 "metadata": {
  "kernelspec": {
   "display_name": "Python 3",
   "language": "python",
   "name": "python3"
  },
  "language_info": {
   "codemirror_mode": {
    "name": "ipython",
    "version": 3
   },
   "file_extension": ".py",
   "mimetype": "text/x-python",
   "name": "python",
   "nbconvert_exporter": "python",
   "pygments_lexer": "ipython3",
   "version": "3.4.2"
  }
 },
 "nbformat": 4,
 "nbformat_minor": 0
}
