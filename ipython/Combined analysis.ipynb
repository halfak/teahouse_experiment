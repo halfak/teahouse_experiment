{
 "cells": [
  {
   "cell_type": "code",
   "execution_count": 3,
   "metadata": {
    "collapsed": false
   },
   "outputs": [
    {
     "name": "stderr",
     "output_type": "stream",
     "text": [
      "Installing package into ‘/usr/local/lib/R/site-library’\n",
      "(as ‘lib’ is unspecified)\n",
      "also installing the dependency ‘chron’\n",
      "\n"
     ]
    },
    {
     "name": "stdout",
     "output_type": "stream",
     "text": [
      "\n",
      "The downloaded source packages are in\n",
      "\t‘/tmp/RtmpnMrncC/downloaded_packages’\n"
     ]
    }
   ],
   "source": [
    "install.packages('data.table', repos=\"http://cran.rstudio.com/\")"
   ]
  },
  {
   "cell_type": "code",
   "execution_count": 5,
   "metadata": {
    "collapsed": false
   },
   "outputs": [
    {
     "data": {
      "text/html": [
       "<table>\n",
       "<thead><tr><th></th><th scope=col>user_id</th><th scope=col>invite_date</th><th scope=col>sample_group</th><th scope=col>revisions_3_to_4_weeks</th><th scope=col>revisions_1_to_2_months</th><th scope=col>revisions_2_to_6_months</th><th scope=col>experiment</th></tr></thead>\n",
       "<tbody>\n",
       "\t<tr><th scope=row>1</th><td>26673158</td><td>2015-11-02</td><td>control</td><td>1</td><td>0</td><td>3</td><td>th3</td></tr>\n",
       "\t<tr><th scope=row>2</th><td>26673435</td><td>2015-11-02</td><td>control</td><td>0</td><td>0</td><td>0</td><td>th3</td></tr>\n",
       "\t<tr><th scope=row>3</th><td>26673452</td><td>2015-11-02</td><td>invited</td><td>0</td><td>1</td><td>0</td><td>th3</td></tr>\n",
       "\t<tr><th scope=row>4</th><td>26673898</td><td>2015-11-02</td><td>control</td><td>0</td><td>2</td><td>0</td><td>th3</td></tr>\n",
       "\t<tr><th scope=row>5</th><td>26674207</td><td>2015-11-02</td><td>invited</td><td>0</td><td>0</td><td>0</td><td>th3</td></tr>\n",
       "\t<tr><th scope=row>6</th><td>26674336</td><td>2015-11-02</td><td>invited</td><td>0</td><td>0</td><td>0</td><td>th3</td></tr>\n",
       "</tbody>\n",
       "</table>\n"
      ],
      "text/latex": [
       "\\begin{tabular}{r|lllllll}\n",
       "  & user_id & invite_date & sample_group & revisions_3_to_4_weeks & revisions_1_to_2_months & revisions_2_to_6_months & experiment\\\\\n",
       "\\hline\n",
       "\t1 & 26673158 & 2015-11-02 & control & 1 & 0 & 3 & th3\\\\\n",
       "\t2 & 26673435 & 2015-11-02 & control & 0 & 0 & 0 & th3\\\\\n",
       "\t3 & 26673452 & 2015-11-02 & invited & 0 & 1 & 0 & th3\\\\\n",
       "\t4 & 26673898 & 2015-11-02 & control & 0 & 2 & 0 & th3\\\\\n",
       "\t5 & 26674207 & 2015-11-02 & invited & 0 & 0 & 0 & th3\\\\\n",
       "\t6 & 26674336 & 2015-11-02 & invited & 0 & 0 & 0 & th3\\\\\n",
       "\\end{tabular}\n"
      ],
      "text/plain": [
       "    user_id invite_date sample_group revisions_3_to_4_weeks\n",
       "1: 26673158  2015-11-02      control                      1\n",
       "2: 26673435  2015-11-02      control                      0\n",
       "3: 26673452  2015-11-02      invited                      0\n",
       "4: 26673898  2015-11-02      control                      0\n",
       "5: 26674207  2015-11-02      invited                      0\n",
       "6: 26674336  2015-11-02      invited                      0\n",
       "   revisions_1_to_2_months revisions_2_to_6_months experiment\n",
       "1:                       0                       3        th3\n",
       "2:                       0                       0        th3\n",
       "3:                       1                       0        th3\n",
       "4:                       2                       0        th3\n",
       "5:                       0                       0        th3\n",
       "6:                       0                       0        th3"
      ]
     },
     "execution_count": 5,
     "metadata": {},
     "output_type": "execute_result"
    },
    {
     "data": {
      "text/plain": [
       "    user_id             invite_date     sample_group   revisions_3_to_4_weeks\n",
       " Min.   :22890795   2014-11-17:  260   control: 6531   Min.   :  0.0         \n",
       " 1st Qu.:23206724   2014-12-04:  260   invited:14993   1st Qu.:  0.0         \n",
       " Median :23532054   2014-10-30:  259                   Median :  0.0         \n",
       " Mean   :24433684   2014-12-05:  258                   Mean   :  1.5         \n",
       " 3rd Qu.:26744881   2015-01-10:  257                   3rd Qu.:  0.0         \n",
       " Max.   :27058409   2014-11-08:  256                   Max.   :847.0         \n",
       "                    (Other)   :19974                                         \n",
       " revisions_1_to_2_months revisions_2_to_6_months experiment \n",
       " Min.   :   0.000        Min.   :    0.00        th2:14766  \n",
       " 1st Qu.:   0.000        1st Qu.:    0.00        th3: 6758  \n",
       " Median :   0.000        Median :    0.00                   \n",
       " Mean   :   4.602        Mean   :    9.84                   \n",
       " 3rd Qu.:   0.000        3rd Qu.:    0.00                   \n",
       " Max.   :3835.000        Max.   :22907.00                   \n",
       "                                                            "
      ]
     },
     "execution_count": 5,
     "metadata": {},
     "output_type": "execute_result"
    }
   ],
   "source": [
    "library(data.table)\n",
    "th3_users = data.table(read.table(\"../datasets/th3_experimental_user.tsv\", sep=\"\\t\", header=T))\n",
    "th3_survival = data.table(read.table(\"../datasets/th3_experimental_user_survival.tsv\", sep=\"\\t\", header=T))\n",
    "th3_user_survival = merge(th3_users, th3_survival, by=\"user_id\")\n",
    "th3_user_survival$experiment = factor(\"th3\", level=c(\"th2\", \"th3\"))\n",
    "\n",
    "\n",
    "th2_users = data.table(read.table(\"../datasets/th2_experimental_user.tsv\", sep=\"\\t\", header=T))\n",
    "th2_survival = data.table(read.table(\"../datasets/th2_experimental_user_survival.tsv\", sep=\"\\t\", header=T))\n",
    "th2_user_survival = merge(th2_users, th2_survival, by=\"user_id\")\n",
    "th2_user_survival$experiment = factor(\"th2\", level=c(\"th2\", \"th3\"))\n",
    "\n",
    "user_survival = rbind(th3_user_survival, th2_user_survival)\n",
    "head(user_survival)\n",
    "summary(user_survival)"
   ]
  },
  {
   "cell_type": "code",
   "execution_count": 8,
   "metadata": {
    "collapsed": false
   },
   "outputs": [
    {
     "data": {
      "text/plain": [
       "\n",
       "\t2-sample test for equality of proportions with continuity correction\n",
       "\n",
       "data:  c(sum(user_survival[sample_group == \"control\", ]$revisions_3_to_4_weeks >  out of c(length(user_survival[sample_group == \"control\", ]$user_id),     0), sum(user_survival[sample_group == \"invited\", ]$revisions_3_to_4_weeks >  out of     length(user_survival[sample_group == \"invited\", ]$user_id))    0)) out of c(length(user_survival[sample_group == \"control\", ]$user_id), \n",
       "X-squared = 5.7457, df = 1, p-value = 0.01653\n",
       "alternative hypothesis: two.sided\n",
       "95 percent confidence interval:\n",
       " -0.018459951 -0.002019284\n",
       "sample estimates:\n",
       "    prop 1     prop 2 \n",
       "0.08207013 0.09230974 \n"
      ]
     },
     "execution_count": 8,
     "metadata": {},
     "output_type": "execute_result"
    }
   ],
   "source": [
    "prop.test(\n",
    "    c(sum(user_survival[sample_group==\"control\",]$revisions_3_to_4_weeks > 0),\n",
    "      sum(user_survival[sample_group==\"invited\",]$revisions_3_to_4_weeks > 0)),\n",
    "    c(length(user_survival[sample_group==\"control\",]$user_id),\n",
    "      length(user_survival[sample_group==\"invited\",]$user_id)),\n",
    ")"
   ]
  },
  {
   "cell_type": "code",
   "execution_count": 9,
   "metadata": {
    "collapsed": false
   },
   "outputs": [
    {
     "data": {
      "text/plain": [
       "\n",
       "\t2-sample test for equality of proportions with continuity correction\n",
       "\n",
       "data:  c(sum(user_survival[sample_group == \"control\", ]$revisions_1_to_2_months >  out of c(length(user_survival[sample_group == \"control\", ]$user_id),     0), sum(user_survival[sample_group == \"invited\", ]$revisions_1_to_2_months >  out of     length(user_survival[sample_group == \"invited\", ]$user_id))    0)) out of c(length(user_survival[sample_group == \"control\", ]$user_id), \n",
       "X-squared = 5.4427, df = 1, p-value = 0.01965\n",
       "alternative hypothesis: two.sided\n",
       "95 percent confidence interval:\n",
       " -0.021175126 -0.001986645\n",
       "sample estimates:\n",
       "   prop 1    prop 2 \n",
       "0.1177461 0.1293270 \n"
      ]
     },
     "execution_count": 9,
     "metadata": {},
     "output_type": "execute_result"
    }
   ],
   "source": [
    "prop.test(\n",
    "    c(sum(user_survival[sample_group==\"control\",]$revisions_1_to_2_months > 0),\n",
    "      sum(user_survival[sample_group==\"invited\",]$revisions_1_to_2_months > 0)),\n",
    "    c(length(user_survival[sample_group==\"control\",]$user_id),\n",
    "      length(user_survival[sample_group==\"invited\",]$user_id)),\n",
    ")"
   ]
  },
  {
   "cell_type": "code",
   "execution_count": 10,
   "metadata": {
    "collapsed": false
   },
   "outputs": [
    {
     "data": {
      "text/plain": [
       "\n",
       "\t2-sample test for equality of proportions with continuity correction\n",
       "\n",
       "data:  c(sum(user_survival[sample_group == \"control\", ]$revisions_2_to_6_months >  out of c(length(user_survival[sample_group == \"control\", ]$user_id),     0), sum(user_survival[sample_group == \"invited\", ]$revisions_2_to_6_months >  out of     length(user_survival[sample_group == \"invited\", ]$user_id))    0)) out of c(length(user_survival[sample_group == \"control\", ]$user_id), \n",
       "X-squared = 16.8916, df = 1, p-value = 3.958e-05\n",
       "alternative hypothesis: two.sided\n",
       "95 percent confidence interval:\n",
       " -0.0304175 -0.0110589\n",
       "sample estimates:\n",
       "   prop 1    prop 2 \n",
       "0.1175930 0.1383312 \n"
      ]
     },
     "execution_count": 10,
     "metadata": {},
     "output_type": "execute_result"
    }
   ],
   "source": [
    "prop.test(\n",
    "    c(sum(user_survival[sample_group==\"control\",]$revisions_2_to_6_months > 0),\n",
    "      sum(user_survival[sample_group==\"invited\",]$revisions_2_to_6_months > 0)),\n",
    "    c(length(user_survival[sample_group==\"control\",]$user_id),\n",
    "      length(user_survival[sample_group==\"invited\",]$user_id)),\n",
    ")"
   ]
  },
  {
   "cell_type": "code",
   "execution_count": 12,
   "metadata": {
    "collapsed": false
   },
   "outputs": [
    {
     "data": {
      "text/html": [
       "<table>\n",
       "<thead><tr><th></th><th scope=col>user_id</th><th scope=col>invite_date</th><th scope=col>sample_group</th><th scope=col>revisions_3_to_4_weeks</th><th scope=col>revisions_1_to_2_months</th><th scope=col>revisions_2_to_6_months</th><th scope=col>experiment</th><th scope=col>surviving_3_to_4_weeks</th><th scope=col>surviving_1_to_2_months</th><th scope=col>surviving_2_to_6_months</th></tr></thead>\n",
       "<tbody>\n",
       "\t<tr><th scope=row>1</th><td>26673158</td><td>2015-11-02</td><td>control</td><td>1</td><td>0</td><td>3</td><td>th3</td><td>TRUE</td><td>FALSE</td><td>TRUE</td></tr>\n",
       "\t<tr><th scope=row>2</th><td>26673435</td><td>2015-11-02</td><td>control</td><td>0</td><td>0</td><td>0</td><td>th3</td><td>FALSE</td><td>FALSE</td><td>FALSE</td></tr>\n",
       "\t<tr><th scope=row>3</th><td>26673452</td><td>2015-11-02</td><td>invited</td><td>0</td><td>1</td><td>0</td><td>th3</td><td>FALSE</td><td>TRUE</td><td>FALSE</td></tr>\n",
       "\t<tr><th scope=row>4</th><td>26673898</td><td>2015-11-02</td><td>control</td><td>0</td><td>2</td><td>0</td><td>th3</td><td>FALSE</td><td>TRUE</td><td>FALSE</td></tr>\n",
       "\t<tr><th scope=row>5</th><td>26674207</td><td>2015-11-02</td><td>invited</td><td>0</td><td>0</td><td>0</td><td>th3</td><td>FALSE</td><td>FALSE</td><td>FALSE</td></tr>\n",
       "\t<tr><th scope=row>6</th><td>26674336</td><td>2015-11-02</td><td>invited</td><td>0</td><td>0</td><td>0</td><td>th3</td><td>FALSE</td><td>FALSE</td><td>FALSE</td></tr>\n",
       "</tbody>\n",
       "</table>\n"
      ],
      "text/latex": [
       "\\begin{tabular}{r|llllllllll}\n",
       "  & user_id & invite_date & sample_group & revisions_3_to_4_weeks & revisions_1_to_2_months & revisions_2_to_6_months & experiment & surviving_3_to_4_weeks & surviving_1_to_2_months & surviving_2_to_6_months\\\\\n",
       "\\hline\n",
       "\t1 & 26673158 & 2015-11-02 & control & 1 & 0 & 3 & th3 & TRUE & FALSE & TRUE\\\\\n",
       "\t2 & 26673435 & 2015-11-02 & control & 0 & 0 & 0 & th3 & FALSE & FALSE & FALSE\\\\\n",
       "\t3 & 26673452 & 2015-11-02 & invited & 0 & 1 & 0 & th3 & FALSE & TRUE & FALSE\\\\\n",
       "\t4 & 26673898 & 2015-11-02 & control & 0 & 2 & 0 & th3 & FALSE & TRUE & FALSE\\\\\n",
       "\t5 & 26674207 & 2015-11-02 & invited & 0 & 0 & 0 & th3 & FALSE & FALSE & FALSE\\\\\n",
       "\t6 & 26674336 & 2015-11-02 & invited & 0 & 0 & 0 & th3 & FALSE & FALSE & FALSE\\\\\n",
       "\\end{tabular}\n"
      ],
      "text/plain": [
       "    user_id invite_date sample_group revisions_3_to_4_weeks\n",
       "1: 26673158  2015-11-02      control                      1\n",
       "2: 26673435  2015-11-02      control                      0\n",
       "3: 26673452  2015-11-02      invited                      0\n",
       "4: 26673898  2015-11-02      control                      0\n",
       "5: 26674207  2015-11-02      invited                      0\n",
       "6: 26674336  2015-11-02      invited                      0\n",
       "   revisions_1_to_2_months revisions_2_to_6_months experiment\n",
       "1:                       0                       3        th3\n",
       "2:                       0                       0        th3\n",
       "3:                       1                       0        th3\n",
       "4:                       2                       0        th3\n",
       "5:                       0                       0        th3\n",
       "6:                       0                       0        th3\n",
       "   surviving_3_to_4_weeks surviving_1_to_2_months surviving_2_to_6_months\n",
       "1:                   TRUE                   FALSE                    TRUE\n",
       "2:                  FALSE                   FALSE                   FALSE\n",
       "3:                  FALSE                    TRUE                   FALSE\n",
       "4:                  FALSE                    TRUE                   FALSE\n",
       "5:                  FALSE                   FALSE                   FALSE\n",
       "6:                  FALSE                   FALSE                   FALSE"
      ]
     },
     "execution_count": 12,
     "metadata": {},
     "output_type": "execute_result"
    }
   ],
   "source": [
    "user_survival$surviving_3_to_4_weeks = user_survival$revisions_3_to_4_weeks >= 1\n",
    "user_survival$surviving_1_to_2_months = user_survival$revisions_1_to_2_months >= 1\n",
    "user_survival$surviving_2_to_6_months = user_survival$revisions_2_to_6_months >= 1\n",
    "head(user_survival)"
   ]
  },
  {
   "cell_type": "code",
   "execution_count": 13,
   "metadata": {
    "collapsed": false
   },
   "outputs": [
    {
     "data": {
      "text/plain": [
       "\n",
       "Call:\n",
       "glm(formula = surviving_3_to_4_weeks ~ sample_group + experiment, \n",
       "    family = \"binomial\", data = user_survival)\n",
       "\n",
       "Deviance Residuals: \n",
       "    Min       1Q   Median       3Q      Max  \n",
       "-0.4485  -0.4377  -0.4377  -0.4186   2.2473  \n",
       "\n",
       "Coefficients:\n",
       "                    Estimate Std. Error z value Pr(>|z|)    \n",
       "(Intercept)         -2.44162    0.05359 -45.562  < 2e-16 ***\n",
       "sample_groupinvited  0.14442    0.05573   2.591  0.00956 ** \n",
       "experimentth3        0.05090    0.05393   0.944  0.34523    \n",
       "---\n",
       "Signif. codes:  0 ‘***’ 0.001 ‘**’ 0.01 ‘*’ 0.05 ‘.’ 0.1 ‘ ’ 1\n",
       "\n",
       "(Dispersion parameter for binomial family taken to be 1)\n",
       "\n",
       "    Null deviance: 12944  on 21523  degrees of freedom\n",
       "Residual deviance: 12937  on 21521  degrees of freedom\n",
       "AIC: 12943\n",
       "\n",
       "Number of Fisher Scoring iterations: 5\n"
      ]
     },
     "execution_count": 13,
     "metadata": {},
     "output_type": "execute_result"
    }
   ],
   "source": [
    "model = glm(surviving_3_to_4_weeks ~ sample_group + experiment, data = user_survival, family = \"binomial\")\n",
    "summary(model)"
   ]
  },
  {
   "cell_type": "code",
   "execution_count": 1,
   "metadata": {
    "collapsed": false
   },
   "outputs": [
    {
     "data": {
      "text/html": [
       "3.5"
      ],
      "text/latex": [
       "3.5"
      ],
      "text/markdown": [
       "3.5"
      ],
      "text/plain": [
       "[1] 3.5"
      ]
     },
     "execution_count": 1,
     "metadata": {},
     "output_type": "execute_result"
    }
   ],
   "source": [
    "(14/4)"
   ]
  },
  {
   "cell_type": "code",
   "execution_count": null,
   "metadata": {
    "collapsed": true
   },
   "outputs": [],
   "source": []
  }
 ],
 "metadata": {
  "kernelspec": {
   "display_name": "R",
   "language": "R",
   "name": "ir"
  },
  "language_info": {
   "codemirror_mode": "r",
   "file_extension": ".r",
   "mimetype": "text/x-r-source",
   "name": "R",
   "pygments_lexer": "r",
   "version": "3.1.1"
  }
 },
 "nbformat": 4,
 "nbformat_minor": 0
}
